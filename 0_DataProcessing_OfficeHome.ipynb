{
 "cells": [
  {
   "cell_type": "code",
   "execution_count": 1,
   "id": "ad8fb009-02e5-4448-9376-e8d3a166b95d",
   "metadata": {},
   "outputs": [],
   "source": [
    "import glob\n",
    "import os\n",
    "import shutil\n",
    "import random\n",
    "\n",
    "random.seed(42)"
   ]
  },
  {
   "cell_type": "code",
   "execution_count": 2,
   "id": "b65c594d-6317-423e-9db9-33650dea1d2f",
   "metadata": {},
   "outputs": [],
   "source": [
    "path = \"OfficeHome_Test_Object\"\n",
    "isExist = os.path.exists(path)\n",
    "if not isExist:\n",
    "    os.makedirs(path)\n",
    "    \n",
    "path = \"OfficeHome_Test_Domain\"\n",
    "isExist = os.path.exists(path)\n",
    "if not isExist:\n",
    "    os.makedirs(path)\n",
    "    \n",
    "path = \"OfficeHome_Train_Object\"\n",
    "isExist = os.path.exists(path)\n",
    "if not isExist:\n",
    "    os.makedirs(path)\n",
    "    \n",
    "path = \"OfficeHome_Train_Domain\"\n",
    "isExist = os.path.exists(path)\n",
    "if not isExist:\n",
    "    os.makedirs(path)"
   ]
  },
  {
   "cell_type": "code",
   "execution_count": 3,
   "id": "43adf0d3-ab3c-4142-9f48-c4bc3be341a0",
   "metadata": {},
   "outputs": [],
   "source": [
    "classNames = sorted(glob.glob(\"OfficeHomeDataset_10072016/Clipart/*\"))\n",
    "for className in classNames:\n",
    "    bname = os.path.basename(className)\n",
    "    \n",
    "    path = os.path.join(\"OfficeHome_Test_Object\", bname)\n",
    "    isExist = os.path.exists(path)\n",
    "    if not isExist:\n",
    "        os.makedirs(path)\n",
    "        \n",
    "    path = os.path.join(\"OfficeHome_Train_Object\", bname)\n",
    "    isExist = os.path.exists(path)\n",
    "    if not isExist:\n",
    "        os.makedirs(path)\n",
    "        \n",
    "\n",
    "\n",
    "domains = [os.path.basename(x) for x in sorted(glob.glob(\"OfficeHomeDataset_10072016/*\"))]\n",
    "\n",
    "for domain in domains:\n",
    "    bname = os.path.basename(domain)\n",
    "    \n",
    "    path = os.path.join(\"OfficeHome_Test_Domain\", bname)\n",
    "    isExist = os.path.exists(path)\n",
    "    if not isExist:\n",
    "        os.makedirs(path)\n",
    "        \n",
    "    path = os.path.join(\"OfficeHome_Train_Domain\", bname)\n",
    "    isExist = os.path.exists(path)\n",
    "    if not isExist:\n",
    "        os.makedirs(path)\n",
    "        \n",
    "        \n",
    "A,B,C = 0,0,0\n",
    "for domain in domains:\n",
    "    classNames = sorted(glob.glob(os.path.join(\"OfficeHomeDataset_10072016\", domain, \"*\")))\n",
    "    for className in classNames:\n",
    "        images = sorted(glob.glob(os.path.join(className, '*.jpg')))\n",
    "        for image in images:\n",
    "            C += 1\n",
    "            rand = random.random()\n",
    "            \n",
    "            trainDest_obj = os.path.join(\"OfficeHome_Train_Object\", os.path.basename(className))\n",
    "            testDest_obj = os.path.join(\"OfficeHome_Test_Object\", os.path.basename(className))\n",
    "            \n",
    "            trainDest_dom = os.path.join(\"OfficeHome_Train_Domain\", os.path.basename(domain))\n",
    "            testDest_dom = os.path.join(\"OfficeHome_Test_Domain\", os.path.basename(domain))\n",
    "            \n",
    "            newName = os.path.basename(domain) + '_' + os.path.basename(className) + '_' + os.path.basename(image)[:-4] + '.jpg'\n",
    "            if rand <= 0.8: # Move to training data\n",
    "                A += 1\n",
    "                shutil.copy(image, os.path.join(trainDest_dom, newName))\n",
    "                shutil.copy(image, os.path.join(trainDest_obj, newName))\n",
    "            else: # Move to testing data\n",
    "                B += 1\n",
    "                shutil.copy(image, os.path.join(testDest_dom, newName))\n",
    "                shutil.copy(image, os.path.join(testDest_obj, newName))\n",
    "                \n",
    "                "
   ]
  },
  {
   "cell_type": "code",
   "execution_count": 4,
   "id": "00fdfda7-2ef3-43de-88c0-ed00af5c3ba9",
   "metadata": {},
   "outputs": [
    {
     "data": {
      "text/plain": [
       "(12473, 3115, 15588)"
      ]
     },
     "execution_count": 4,
     "metadata": {},
     "output_type": "execute_result"
    }
   ],
   "source": [
    "A,B,C"
   ]
  },
  {
   "cell_type": "code",
   "execution_count": 5,
   "id": "88e3da33-863c-4cc3-87a8-79734f831216",
   "metadata": {},
   "outputs": [
    {
     "data": {
      "text/plain": [
       "(12473, 12473, 3115, 3115)"
      ]
     },
     "execution_count": 5,
     "metadata": {},
     "output_type": "execute_result"
    }
   ],
   "source": [
    "# Sanity Check Dataloaders\n",
    "\n",
    "train_obj = sorted(glob.glob(\"OfficeHome_Train_Object/*/*\"))\n",
    "train_dom = sorted(glob.glob(\"OfficeHome_Train_Domain/*/*\"))\n",
    "\n",
    "test_obj = sorted(glob.glob(\"OfficeHome_Test_Object/*/*\"))\n",
    "test_dom = sorted(glob.glob(\"OfficeHome_Test_Domain/*/*\"))\n",
    "\n",
    "len(train_obj), len(train_dom), len(test_obj), len(test_dom)"
   ]
  },
  {
   "cell_type": "code",
   "execution_count": null,
   "id": "3c01f4b8-95ad-4402-a3f5-30c789613981",
   "metadata": {},
   "outputs": [],
   "source": []
  }
 ],
 "metadata": {
  "kernelspec": {
   "display_name": "main",
   "language": "python",
   "name": "main"
  },
  "language_info": {
   "codemirror_mode": {
    "name": "ipython",
    "version": 3
   },
   "file_extension": ".py",
   "mimetype": "text/x-python",
   "name": "python",
   "nbconvert_exporter": "python",
   "pygments_lexer": "ipython3",
   "version": "3.9.11"
  }
 },
 "nbformat": 4,
 "nbformat_minor": 5
}
