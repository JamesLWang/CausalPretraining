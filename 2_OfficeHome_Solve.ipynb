{
 "cells": [
  {
   "cell_type": "code",
   "execution_count": 1,
   "id": "cfe32ba1-388d-4156-a750-db89cb841ed0",
   "metadata": {},
   "outputs": [],
   "source": [
    "import torch\n",
    "import torch.nn as nn\n",
    "import torch.optim as optim\n",
    "from torch.optim import lr_scheduler\n",
    "import torch.backends.cudnn as cudnn\n",
    "import numpy as np\n",
    "import torchvision\n",
    "from torchvision import datasets, models, transforms\n",
    "import matplotlib.pyplot as plt\n",
    "import time\n",
    "import os\n",
    "import copy\n",
    "import torch.nn.functional as F"
   ]
  },
  {
   "cell_type": "code",
   "execution_count": 2,
   "id": "5dee4795-18dc-497a-9342-86a93dd9d436",
   "metadata": {},
   "outputs": [],
   "source": [
    "class AlexNet_OH_DOM(nn.Module):\n",
    "    def __init__(self):\n",
    "        super(AlexNet_OH_DOM, self).__init__()\n",
    "        self.conv1 = nn.Conv2d(in_channels=3, out_channels= 96, kernel_size= 11, stride=4, padding=0 )\n",
    "        self.maxpool = nn.MaxPool2d(kernel_size=3, stride=2)\n",
    "        self.conv2 = nn.Conv2d(in_channels=96, out_channels=256, kernel_size=5, stride= 1, padding= 2)\n",
    "        self.conv3 = nn.Conv2d(in_channels=256, out_channels=384, kernel_size=3, stride= 1, padding= 1)\n",
    "        self.conv4 = nn.Conv2d(in_channels=384, out_channels=384, kernel_size=3, stride=1, padding=1)\n",
    "        self.conv5 = nn.Conv2d(in_channels=384, out_channels=256, kernel_size=3, stride=1, padding=1)\n",
    "        self.fc1  = nn.Linear(in_features= 6400, out_features= 4096)\n",
    "        self.fc2  = nn.Linear(in_features= 4096, out_features= 128)\n",
    "        self.fc3 = nn.Linear(in_features=128 , out_features=4)\n",
    "\n",
    "\n",
    "    def forward(self,x):\n",
    "        x = F.relu(self.conv1(x))\n",
    "        x = self.maxpool(x)\n",
    "        x = F.relu(self.conv2(x))\n",
    "        x = self.maxpool(x)\n",
    "        x = F.relu(self.conv3(x))\n",
    "        x = F.relu(self.conv4(x))\n",
    "        x = F.relu(self.conv5(x))\n",
    "        x = self.maxpool(x)\n",
    "        x = x.reshape(x.shape[0], -1)\n",
    "        x = F.relu(self.fc1(x))\n",
    "        x = F.relu(self.fc2(x))\n",
    "        x = self.fc3(x)\n",
    "        return x\n",
    "    \n",
    "class AlexNet_OH_OBJ(nn.Module):\n",
    "    def __init__(self):\n",
    "        super(AlexNet_OH_OBJ, self).__init__()\n",
    "        self.conv1 = nn.Conv2d(in_channels=3, out_channels= 96, kernel_size= 11, stride=4, padding=0 )\n",
    "        self.maxpool = nn.MaxPool2d(kernel_size=3, stride=2)\n",
    "        self.conv2 = nn.Conv2d(in_channels=96, out_channels=256, kernel_size=5, stride= 1, padding= 2)\n",
    "        self.conv3 = nn.Conv2d(in_channels=256, out_channels=384, kernel_size=3, stride= 1, padding= 1)\n",
    "        self.conv4 = nn.Conv2d(in_channels=384, out_channels=384, kernel_size=3, stride=1, padding=1)\n",
    "        self.conv5 = nn.Conv2d(in_channels=384, out_channels=256, kernel_size=3, stride=1, padding=1)\n",
    "        self.fc1  = nn.Linear(in_features= 6400, out_features= 4096)\n",
    "        self.fc2  = nn.Linear(in_features= 4096, out_features= 128)\n",
    "        self.fc3 = nn.Linear(in_features=128 , out_features=65)\n",
    "\n",
    "\n",
    "    def forward(self,x):\n",
    "        x = F.relu(self.conv1(x))\n",
    "        x = self.maxpool(x)\n",
    "        x = F.relu(self.conv2(x))\n",
    "        x = self.maxpool(x)\n",
    "        x = F.relu(self.conv3(x))\n",
    "        x = F.relu(self.conv4(x))\n",
    "        x = F.relu(self.conv5(x))\n",
    "        x = self.maxpool(x)\n",
    "        x = x.reshape(x.shape[0], -1)\n",
    "        x = F.relu(self.fc1(x))\n",
    "        x = F.relu(self.fc2(x))\n",
    "        x = self.fc3(x)\n",
    "        return x\n",
    "    "
   ]
  },
  {
   "cell_type": "code",
   "execution_count": 3,
   "id": "f24e6ae1-b8b8-446f-9f5a-613f59c2852f",
   "metadata": {},
   "outputs": [
    {
     "data": {
      "text/plain": [
       "AlexNet_OH_DOM(\n",
       "  (conv1): Conv2d(3, 96, kernel_size=(11, 11), stride=(4, 4))\n",
       "  (maxpool): MaxPool2d(kernel_size=3, stride=2, padding=0, dilation=1, ceil_mode=False)\n",
       "  (conv2): Conv2d(96, 256, kernel_size=(5, 5), stride=(1, 1), padding=(2, 2))\n",
       "  (conv3): Conv2d(256, 384, kernel_size=(3, 3), stride=(1, 1), padding=(1, 1))\n",
       "  (conv4): Conv2d(384, 384, kernel_size=(3, 3), stride=(1, 1), padding=(1, 1))\n",
       "  (conv5): Conv2d(384, 256, kernel_size=(3, 3), stride=(1, 1), padding=(1, 1))\n",
       "  (fc1): Linear(in_features=6400, out_features=4096, bias=True)\n",
       "  (fc2): Linear(in_features=4096, out_features=128, bias=True)\n",
       "  (fc3): Linear(in_features=128, out_features=4, bias=True)\n",
       ")"
      ]
     },
     "execution_count": 3,
     "metadata": {},
     "output_type": "execute_result"
    }
   ],
   "source": [
    "PACS_Domain = AlexNet_OH_DOM()\n",
    "PACS_Domain.load_state_dict(torch.load(\"1a_Resnet18_dom.pth\"))\n",
    "PACS_Domain.eval()"
   ]
  },
  {
   "cell_type": "code",
   "execution_count": 4,
   "id": "8f54bd7e-49ed-4758-a882-d7a876c0c119",
   "metadata": {},
   "outputs": [
    {
     "data": {
      "text/plain": [
       "AlexNet_OH_OBJ(\n",
       "  (conv1): Conv2d(3, 96, kernel_size=(11, 11), stride=(4, 4))\n",
       "  (maxpool): MaxPool2d(kernel_size=3, stride=2, padding=0, dilation=1, ceil_mode=False)\n",
       "  (conv2): Conv2d(96, 256, kernel_size=(5, 5), stride=(1, 1), padding=(2, 2))\n",
       "  (conv3): Conv2d(256, 384, kernel_size=(3, 3), stride=(1, 1), padding=(1, 1))\n",
       "  (conv4): Conv2d(384, 384, kernel_size=(3, 3), stride=(1, 1), padding=(1, 1))\n",
       "  (conv5): Conv2d(384, 256, kernel_size=(3, 3), stride=(1, 1), padding=(1, 1))\n",
       "  (fc1): Linear(in_features=6400, out_features=4096, bias=True)\n",
       "  (fc2): Linear(in_features=4096, out_features=128, bias=True)\n",
       "  (fc3): Linear(in_features=128, out_features=7, bias=True)\n",
       ")"
      ]
     },
     "execution_count": 4,
     "metadata": {},
     "output_type": "execute_result"
    }
   ],
   "source": [
    "PACS_Object = AlexNet_OH_OBJ()\n",
    "PACS_Object.load_state_dict(torch.load(\"1b_Resnet18_dom.pth\"))\n",
    "PACS_Object.eval()"
   ]
  },
  {
   "cell_type": "code",
   "execution_count": 3,
   "id": "fc78db93-58d9-48e4-8578-4bcc8550e26c",
   "metadata": {},
   "outputs": [],
   "source": [
    "data_transforms = {\n",
    "    'train':\n",
    "    transforms.Compose([\n",
    "        transforms.Resize((224,224)),\n",
    "        # transforms.RandomAffine(0, shear=10, scale=(0.8,1.2)),\n",
    "        transforms.RandomHorizontalFlip(),\n",
    "        transforms.RandomVerticalFlip(),\n",
    "        transforms.ToTensor(),\n",
    "        # normalize\n",
    "    ]),\n",
    "    'validation':\n",
    "    transforms.Compose([\n",
    "        transforms.Resize((224,224)),\n",
    "        transforms.ToTensor(),\n",
    "        # normalize\n",
    "    ]),\n",
    "}\n",
    "\n",
    "\n",
    "image_datasets = {\n",
    "    'test_object': \n",
    "    datasets.ImageFolder('/home/jlw2247/vondrick_2/OfficeHome_Test_Object', data_transforms['validation']),\n",
    "    'test_domain': \n",
    "    datasets.ImageFolder('/home/jlw2247/vondrick_2/OfficeHome_Test_Domain', data_transforms['validation'])\n",
    "    \n",
    "}\n",
    "\n",
    "dataloaders = {\n",
    "    'test_object':\n",
    "    torch.utils.data.DataLoader(image_datasets['test_object'],\n",
    "                                batch_size=32,\n",
    "                                shuffle=False, num_workers=4),\n",
    "\n",
    "    'test_domain':\n",
    "    torch.utils.data.DataLoader(image_datasets['test_domain'],\n",
    "                                batch_size=32,\n",
    "                                shuffle=False, num_workers=4),\n",
    "}\n",
    "\n"
   ]
  },
  {
   "cell_type": "code",
   "execution_count": 7,
   "id": "30b6b0b3-5f07-43c2-be32-b06f5f951054",
   "metadata": {},
   "outputs": [
    {
     "name": "stderr",
     "output_type": "stream",
     "text": [
      "100%|███████████████████████████████████████████████████████████████████████████████████████████████████████████████████████| 7/7 [00:45<00:00,  6.43s/it]\n",
      "100%|███████████████████████████████████████████████████████████████████████████████████████████████████████████████████████| 7/7 [00:47<00:00,  6.82s/it]\n",
      "100%|███████████████████████████████████████████████████████████████████████████████████████████████████████████████████████| 7/7 [00:34<00:00,  4.89s/it]\n",
      "100%|███████████████████████████████████████████████████████████████████████████████████████████████████████████████████████| 7/7 [01:16<00:00, 10.97s/it]"
     ]
    },
    {
     "name": "stdout",
     "output_type": "stream",
     "text": [
      "1536 9991 0.15373836452807527\n",
      "9518 9991 0.9526573916524872\n",
      "1641 9991 0.16424782304073665\n"
     ]
    },
    {
     "name": "stderr",
     "output_type": "stream",
     "text": [
      "\n"
     ]
    }
   ],
   "source": [
    "import glob\n",
    "import os\n",
    "import skimage.io as si\n",
    "from PIL import Image\n",
    "from tqdm import tqdm\n",
    "\n",
    "correct, total = 0,0 \n",
    "\n",
    "correct_obj = 0\n",
    "correct_domain = 0\n",
    "\n",
    "with torch.no_grad():\n",
    "    domains = [os.path.basename(x) for x in sorted(glob.glob(\"/home/jlw2247/vondrick_2/OfficeHomeDataset_10072016/*\"))]\n",
    "    for domain in domains:\n",
    "            classNames = sorted(glob.glob(os.path.join(\"/home/jlw2247/vondrick_2/OfficeHomeDataset_10072016/\", domain, \"*\")))\n",
    "            for className_ in tqdm(classNames):\n",
    "                className = os.path.basename(className_)\n",
    "                classLabel = image_datasets['test_object'].class_to_idx[className]\n",
    "                domainLabel = image_datasets['test_domain'].class_to_idx[domain]\n",
    "\n",
    "                images = sorted(glob.glob(os.path.join(className_,'*')))\n",
    "                for image in images:\n",
    "                    img = Image.open(image)\n",
    "                    img = data_transforms['validation'](img).unsqueeze(0)\n",
    "\n",
    "                    predicted_objectLabel = torch.argmax(PACS_Object(img)).item()\n",
    "                    predicted_domainLabel = torch.argmax(PACS_Domain(img)).item()\n",
    "                    \n",
    "                    if predicted_objectLabel == classLabel:\n",
    "                        correct_obj += 1\n",
    "                    \n",
    "                    if predicted_domainLabel == domainLabel:\n",
    "                        correct_domain += 1\n",
    "                        \n",
    "                    if predicted_objectLabel == classLabel and predicted_domainLabel == domainLabel:\n",
    "                        correct += 1\n",
    "\n",
    "                    total += 1\n",
    "\n",
    "print(correct, total, correct / total)\n",
    "print(correct_domain, total, correct_domain / total)\n",
    "print(correct_obj, total, correct_obj / total)"
   ]
  },
  {
   "cell_type": "code",
   "execution_count": null,
   "id": "3b459d4e-bc6e-479f-9375-4412f5bf492e",
   "metadata": {},
   "outputs": [],
   "source": []
  }
 ],
 "metadata": {
  "kernelspec": {
   "display_name": "main",
   "language": "python",
   "name": "main"
  },
  "language_info": {
   "codemirror_mode": {
    "name": "ipython",
    "version": 3
   },
   "file_extension": ".py",
   "mimetype": "text/x-python",
   "name": "python",
   "nbconvert_exporter": "python",
   "pygments_lexer": "ipython3",
   "version": "3.9.11"
  }
 },
 "nbformat": 4,
 "nbformat_minor": 5
}
