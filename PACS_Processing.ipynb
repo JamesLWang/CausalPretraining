{
 "cells": [
  {
   "cell_type": "code",
   "execution_count": 40,
   "id": "1074de54-e0ec-4d05-9d4e-751ebe17972c",
   "metadata": {},
   "outputs": [],
   "source": [
    "import glob, os"
   ]
  },
  {
   "cell_type": "code",
   "execution_count": 45,
   "id": "736a913b-b339-4b46-8fe2-e8160f189edb",
   "metadata": {},
   "outputs": [],
   "source": [
    "all_images = sorted(glob.glob(\"/proj/vondrick/james/OfficeHomeDataset_10072016/*\"))\n",
    "domain_names = [os.path.basename(x) for x in all_images]\n",
    "domain_names\n",
    "\n",
    "classes = sorted(glob.glob(os.path.join(domain, \"*\")))\n",
    "class_names = [os.path.basename(x) for x in classes]"
   ]
  },
  {
   "cell_type": "code",
   "execution_count": 46,
   "id": "910ef97e-59b6-45a8-ac19-6161442f3917",
   "metadata": {},
   "outputs": [
    {
     "data": {
      "text/plain": [
       "['Alarm_Clock',\n",
       " 'Backpack',\n",
       " 'Batteries',\n",
       " 'Bed',\n",
       " 'Bike',\n",
       " 'Bottle',\n",
       " 'Bucket',\n",
       " 'Calculator',\n",
       " 'Calendar',\n",
       " 'Candles',\n",
       " 'Chair',\n",
       " 'Clipboards',\n",
       " 'Computer',\n",
       " 'Couch',\n",
       " 'Curtains',\n",
       " 'Desk_Lamp',\n",
       " 'Drill',\n",
       " 'Eraser',\n",
       " 'Exit_Sign',\n",
       " 'Fan',\n",
       " 'File_Cabinet',\n",
       " 'Flipflops',\n",
       " 'Flowers',\n",
       " 'Folder',\n",
       " 'Fork',\n",
       " 'Glasses',\n",
       " 'Hammer',\n",
       " 'Helmet',\n",
       " 'Kettle',\n",
       " 'Keyboard',\n",
       " 'Knives',\n",
       " 'Lamp_Shade',\n",
       " 'Laptop',\n",
       " 'Marker',\n",
       " 'Monitor',\n",
       " 'Mop',\n",
       " 'Mouse',\n",
       " 'Mug',\n",
       " 'Notebook',\n",
       " 'Oven',\n",
       " 'Pan',\n",
       " 'Paper_Clip',\n",
       " 'Pen',\n",
       " 'Pencil',\n",
       " 'Postit_Notes',\n",
       " 'Printer',\n",
       " 'Push_Pin',\n",
       " 'Radio',\n",
       " 'Refrigerator',\n",
       " 'Ruler',\n",
       " 'Scissors',\n",
       " 'Screwdriver',\n",
       " 'Shelf',\n",
       " 'Sink',\n",
       " 'Sneakers',\n",
       " 'Soda',\n",
       " 'Speaker',\n",
       " 'Spoon',\n",
       " 'TV',\n",
       " 'Table',\n",
       " 'Telephone',\n",
       " 'ToothBrush',\n",
       " 'Toys',\n",
       " 'Trash_Can',\n",
       " 'Webcam']"
      ]
     },
     "execution_count": 46,
     "metadata": {},
     "output_type": "execute_result"
    }
   ],
   "source": [
    "class_names"
   ]
  },
  {
   "cell_type": "code",
   "execution_count": 42,
   "id": "a8dd3976-7197-49af-8850-861b1abf4bd8",
   "metadata": {},
   "outputs": [],
   "source": [
    "outputDir = \"/proj/vondrick/james/OfficeHomeDataset_Category_Final\"\n",
    "for class_name in class_names:\n",
    "    newClassFile = os.path.join(outputDir, class_name) \n",
    "    isExist = os.path.exists(newClassFile)\n",
    "    if not isExist:\n",
    "        os.makedirs(newClassFile)\n",
    "    for domain_name in domain_names:\n",
    "        newDomainFile = os.path.join(newClassFile, domain_name)\n",
    "        isExist = os.path.exists(newDomainFile)\n",
    "        if not isExist:\n",
    "            os.makedirs(newDomainFile)\n",
    "            "
   ]
  },
  {
   "cell_type": "code",
   "execution_count": 43,
   "id": "fe048697-4be1-4359-b8cc-1560ddcd4ad4",
   "metadata": {},
   "outputs": [],
   "source": [
    "import shutil\n",
    "\n",
    "for domain in all_images:\n",
    "    classes = sorted(glob.glob(os.path.join(domain, \"*\")))\n",
    "    class_names = [os.path.basename(x) for x in classes]\n",
    "    for class_ in classes:\n",
    "        imgs = sorted(glob.glob(os.path.join(class_, \"*\")))\n",
    "        ctr = 0\n",
    "        for img in imgs:\n",
    "            dst = os.path.join(outputDir, os.path.basename(class_), os.path.basename(domain), str(ctr) + \".png\")\n",
    "            src = img\n",
    "            shutil.copyfile(src, dst)\n",
    "            ctr += 1\n",
    "            "
   ]
  },
  {
   "cell_type": "code",
   "execution_count": null,
   "id": "a146f686-1432-41af-a82b-ba83ab02cdcf",
   "metadata": {},
   "outputs": [],
   "source": [
    "class_"
   ]
  },
  {
   "cell_type": "code",
   "execution_count": 13,
   "id": "29443926-094a-4db7-b3cb-6b3f7b1556b1",
   "metadata": {},
   "outputs": [
    {
     "data": {
      "text/plain": [
       "'/proj/vondrick/james/OfficeHomeDataset_Category/RealWorld/*'"
      ]
     },
     "execution_count": 13,
     "metadata": {},
     "output_type": "execute_result"
    }
   ],
   "source": [
    "for domain in all_images:\n",
    "    a = os.path.join(domain, \"*\")\n",
    "a"
   ]
  },
  {
   "cell_type": "code",
   "execution_count": 12,
   "id": "93f8c38c-9c09-42d7-a017-1cc6ef811779",
   "metadata": {},
   "outputs": [
    {
     "data": {
      "text/plain": [
       "['/proj/vondrick/james/OfficeHomeDataset_Category/Art',\n",
       " '/proj/vondrick/james/OfficeHomeDataset_Category/Clipart',\n",
       " '/proj/vondrick/james/OfficeHomeDataset_Category/Product',\n",
       " '/proj/vondrick/james/OfficeHomeDataset_Category/RealWorld']"
      ]
     },
     "execution_count": 12,
     "metadata": {},
     "output_type": "execute_result"
    }
   ],
   "source": [
    "all_images"
   ]
  },
  {
   "cell_type": "code",
   "execution_count": null,
   "id": "bcfc9a7d-ecdf-4853-8c80-ebce9d0686fc",
   "metadata": {},
   "outputs": [],
   "source": []
  }
 ],
 "metadata": {
  "kernelspec": {
   "display_name": "Python 3",
   "language": "python",
   "name": "python3"
  },
  "language_info": {
   "codemirror_mode": {
    "name": "ipython",
    "version": 3
   },
   "file_extension": ".py",
   "mimetype": "text/x-python",
   "name": "python",
   "nbconvert_exporter": "python",
   "pygments_lexer": "ipython3",
   "version": "3.9.7"
  }
 },
 "nbformat": 4,
 "nbformat_minor": 5
}
