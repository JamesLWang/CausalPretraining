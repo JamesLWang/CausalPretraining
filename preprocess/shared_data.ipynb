{
 "cells": [
  {
   "cell_type": "code",
   "execution_count": 25,
   "metadata": {},
   "outputs": [],
   "source": [
    "import glob\n",
    "import shutil\n",
    "import os\n",
    "import numpy as np\n",
    "import collections"
   ]
  },
  {
   "cell_type": "code",
   "execution_count": 20,
   "metadata": {},
   "outputs": [],
   "source": [
    "source_directory = \"../.downloads/PACS\"\n",
    "destination_directory = \"../datasets/PACS_shared\"\n",
    "\n",
    "from_to_list = {}\n",
    "\n",
    "for domain in glob.glob(f\"{source_directory}/*\"):\n",
    "\tdomain_name = os.path.basename(domain)\n",
    "\tfor object in glob.glob(f\"{domain}/*\"):\n",
    "\t\tobject_name = os.path.basename(object)\n",
    "\n",
    "\t\tif (domain_name, object_name) not in from_to_list:\n",
    "\t\t\tfrom_to_list[(domain_name, object_name)] = []\n",
    "\t\tnew_dir_postfix = f\"{domain_name}_{object_name}\"\n",
    "\t\t\n",
    "\t\t# prepare all images\n",
    "\t\tfor image in glob.glob(f\"{object}/*\"):\n",
    "\t\t\tnewName = f\"{domain_name}_{object_name}_{os.path.basename(image)[:-4]}.jpg\"\n",
    "\t\t\tnew_image = os.path.join(new_dir_postfix, newName)\n",
    "\n",
    "\t\t\tfrom_to_list[(domain_name, object_name)].append((image, new_image))"
   ]
  },
  {
   "cell_type": "code",
   "execution_count": 21,
   "metadata": {},
   "outputs": [
    {
     "name": "stdout",
     "output_type": "stream",
     "text": [
      "('photo', 'house') has 280 images\n",
      "('photo', 'horse') has 199 images\n",
      "('photo', 'guitar') has 186 images\n",
      "('photo', 'giraffe') has 182 images\n",
      "('photo', 'person') has 432 images\n",
      "('photo', 'elephant') has 202 images\n",
      "('photo', 'dog') has 189 images\n",
      "('sketch', 'house') has 80 images\n",
      "('sketch', 'horse') has 816 images\n",
      "('sketch', 'guitar') has 608 images\n",
      "('sketch', 'giraffe') has 753 images\n",
      "('sketch', 'person') has 160 images\n",
      "('sketch', 'elephant') has 740 images\n",
      "('sketch', 'dog') has 772 images\n",
      "('cartoon', 'house') has 288 images\n",
      "('cartoon', 'horse') has 324 images\n",
      "('cartoon', 'guitar') has 135 images\n",
      "('cartoon', 'giraffe') has 346 images\n",
      "('cartoon', 'person') has 405 images\n",
      "('cartoon', 'elephant') has 457 images\n",
      "('cartoon', 'dog') has 389 images\n",
      "('art_painting', 'house') has 295 images\n",
      "('art_painting', 'horse') has 201 images\n",
      "('art_painting', 'guitar') has 184 images\n",
      "('art_painting', 'giraffe') has 285 images\n",
      "('art_painting', 'person') has 449 images\n",
      "('art_painting', 'elephant') has 255 images\n",
      "('art_painting', 'dog') has 379 images\n",
      "in total 9991 images\n"
     ]
    }
   ],
   "source": [
    "for cls, images in from_to_list.items():\n",
    "\tprint(f\"{cls} has {len(images)} images\")\n",
    "print(f\"in total {sum([len(images) for images in from_to_list.values()])} images\")"
   ]
  },
  {
   "cell_type": "code",
   "execution_count": 33,
   "metadata": {},
   "outputs": [],
   "source": [
    "np.random.seed(42)\n",
    "\n",
    "sampled_stat = {}\n",
    "sampled_stat['Train'] = collections.defaultdict(int)\n",
    "sampled_stat['Test'] = collections.defaultdict(int)\n",
    "\n",
    "for cls, images in from_to_list.items():\n",
    "\tnp.random.shuffle(images)\n",
    "\tnum_train = int(len(images) * 0.8)\n",
    "\n",
    "\ttrain_images = images[:num_train]\n",
    "\ttest_images = images[num_train:]\n",
    "\n",
    "\ttrain_dir = os.path.join(destination_directory, f'Train/{\"_\".join(cls)}')\n",
    "\ttest_dir = os.path.join(destination_directory, f'Test/{\"_\".join(cls)}')\n",
    "\n",
    "\tif not os.path.exists(train_dir):\n",
    "\t\tos.makedirs(train_dir, exist_ok=True)\n",
    "\tif not os.path.exists(test_dir):\n",
    "\t\tos.makedirs(test_dir, exist_ok=True)\n",
    "\n",
    "\tfor image, new_image in train_images:\n",
    "\t\tnew_image_path = os.path.join(destination_directory, f\"Train/{new_image}\")\n",
    "\t\tsampled_stat['Train'][cls] += 1\n",
    "\n",
    "\t\tif os.path.exists(new_image_path):\n",
    "\t\t\tcontinue\n",
    "\t\telse:\n",
    "\t\t\tshutil.copy(image, new_image_path)\n",
    "\n",
    "\tfor image, new_image in test_images:\n",
    "\t\tnew_image_path = os.path.join(destination_directory, f\"Test/{new_image}\")\n",
    "\t\tsampled_stat['Test'][cls] += 1\n",
    "\n",
    "\t\tif os.path.exists(new_image_path):\n",
    "\t\t\tcontinue\n",
    "\t\telse:\n",
    "\t\t\tshutil.copy(image, new_image_path)"
   ]
  },
  {
   "cell_type": "code",
   "execution_count": 34,
   "metadata": {},
   "outputs": [
    {
     "data": {
      "text/plain": [
       "{'Train': defaultdict(int,\n",
       "             {('photo', 'house'): 224,\n",
       "              ('photo', 'horse'): 159,\n",
       "              ('photo', 'guitar'): 148,\n",
       "              ('photo', 'giraffe'): 145,\n",
       "              ('photo', 'person'): 345,\n",
       "              ('photo', 'elephant'): 161,\n",
       "              ('photo', 'dog'): 151,\n",
       "              ('sketch', 'house'): 64,\n",
       "              ('sketch', 'horse'): 652,\n",
       "              ('sketch', 'guitar'): 486,\n",
       "              ('sketch', 'giraffe'): 602,\n",
       "              ('sketch', 'person'): 128,\n",
       "              ('sketch', 'elephant'): 592,\n",
       "              ('sketch', 'dog'): 617,\n",
       "              ('cartoon', 'house'): 230,\n",
       "              ('cartoon', 'horse'): 259,\n",
       "              ('cartoon', 'guitar'): 108,\n",
       "              ('cartoon', 'giraffe'): 276,\n",
       "              ('cartoon', 'person'): 324,\n",
       "              ('cartoon', 'elephant'): 365,\n",
       "              ('cartoon', 'dog'): 311,\n",
       "              ('art_painting', 'house'): 236,\n",
       "              ('art_painting', 'horse'): 160,\n",
       "              ('art_painting', 'guitar'): 147,\n",
       "              ('art_painting', 'giraffe'): 228,\n",
       "              ('art_painting', 'person'): 359,\n",
       "              ('art_painting', 'elephant'): 204,\n",
       "              ('art_painting', 'dog'): 303}),\n",
       " 'Test': defaultdict(int,\n",
       "             {('photo', 'house'): 56,\n",
       "              ('photo', 'horse'): 40,\n",
       "              ('photo', 'guitar'): 38,\n",
       "              ('photo', 'giraffe'): 37,\n",
       "              ('photo', 'person'): 87,\n",
       "              ('photo', 'elephant'): 41,\n",
       "              ('photo', 'dog'): 38,\n",
       "              ('sketch', 'house'): 16,\n",
       "              ('sketch', 'horse'): 164,\n",
       "              ('sketch', 'guitar'): 122,\n",
       "              ('sketch', 'giraffe'): 151,\n",
       "              ('sketch', 'person'): 32,\n",
       "              ('sketch', 'elephant'): 148,\n",
       "              ('sketch', 'dog'): 155,\n",
       "              ('cartoon', 'house'): 58,\n",
       "              ('cartoon', 'horse'): 65,\n",
       "              ('cartoon', 'guitar'): 27,\n",
       "              ('cartoon', 'giraffe'): 70,\n",
       "              ('cartoon', 'person'): 81,\n",
       "              ('cartoon', 'elephant'): 92,\n",
       "              ('cartoon', 'dog'): 78,\n",
       "              ('art_painting', 'house'): 59,\n",
       "              ('art_painting', 'horse'): 41,\n",
       "              ('art_painting', 'guitar'): 37,\n",
       "              ('art_painting', 'giraffe'): 57,\n",
       "              ('art_painting', 'person'): 90,\n",
       "              ('art_painting', 'elephant'): 51,\n",
       "              ('art_painting', 'dog'): 76})}"
      ]
     },
     "execution_count": 34,
     "metadata": {},
     "output_type": "execute_result"
    }
   ],
   "source": [
    "sampled_stat"
   ]
  },
  {
   "cell_type": "markdown",
   "metadata": {},
   "source": [
    "sanity checks"
   ]
  },
  {
   "cell_type": "code",
   "execution_count": 35,
   "metadata": {},
   "outputs": [
    {
     "data": {
      "text/plain": [
       "(7984, 2007)"
      ]
     },
     "execution_count": 35,
     "metadata": {},
     "output_type": "execute_result"
    }
   ],
   "source": [
    "train = glob.glob(f\"{destination_directory}/Train/**/*.jpg\", recursive=True)\n",
    "test = glob.glob(f\"{destination_directory}/Test/**/*.jpg\", recursive=True)\n",
    "len(train), len(test)"
   ]
  }
 ],
 "metadata": {
  "interpreter": {
   "hash": "509a6926ef9f61fe9b673ad63769c04ffa88ddfd212d5a141663477210f159aa"
  },
  "kernelspec": {
   "display_name": "Python 3.9.11 ('main')",
   "language": "python",
   "name": "python3"
  },
  "language_info": {
   "codemirror_mode": {
    "name": "ipython",
    "version": 3
   },
   "file_extension": ".py",
   "mimetype": "text/x-python",
   "name": "python",
   "nbconvert_exporter": "python",
   "pygments_lexer": "ipython3",
   "version": "3.9.11"
  },
  "orig_nbformat": 4
 },
 "nbformat": 4,
 "nbformat_minor": 2
}
